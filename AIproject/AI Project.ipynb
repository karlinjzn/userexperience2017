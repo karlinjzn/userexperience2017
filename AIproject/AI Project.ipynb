{
 "cells": [
  {
   "cell_type": "code",
   "execution_count": 15,
   "metadata": {
    "collapsed": true
   },
   "outputs": [],
   "source": [
    "import numpy as np\n",
    "import cv2\n",
    "from matplotlib import pyplot as plt\n",
    "from sklearn import cross_validation"
   ]
  },
  {
   "cell_type": "markdown",
   "metadata": {},
   "source": [
    "First we use Optical Character Recognition (OCR) method to recognize hand-written digits."
   ]
  },
  {
   "cell_type": "code",
   "execution_count": 34,
   "metadata": {
    "collapsed": false
   },
   "outputs": [
    {
     "name": "stdout",
     "output_type": "stream",
     "text": [
      "91.76\n"
     ]
    }
   ],
   "source": [
    "img = cv2.imread('digits.png')\n",
    "gray = cv2.cvtColor(img,cv2.COLOR_BGR2GRAY)\n",
    "\n",
    "# Now we split the image to 5000 cells, each 20x20 size\n",
    "cells = [np.hsplit(row,100) for row in np.vsplit(gray,50)]\n",
    "\n",
    "# Make it into a Numpy array. It size will be (50,100,20,20)\n",
    "x = np.array(cells)\n",
    "\n",
    "# Now we prepare train_data and test_data.\n",
    "train = x[:,:50].reshape(-1,400).astype(np.float32) # Size = (2500,400)\n",
    "test = x[:,50:100].reshape(-1,400).astype(np.float32) # Size = (2500,400)\n",
    "\n",
    "# Create labels for train and test data\n",
    "k = np.arange(10)\n",
    "train_labels = np.repeat(k,250)[:,np.newaxis]\n",
    "test_labels = train_labels.copy()\n",
    "\n",
    "# Initiate kNN, train the data, then test it with test data for k=5\n",
    "knn = cv2.KNearest()\n",
    "knn.train(train,train_labels)\n",
    "ret,result,neighbours,dist = knn.find_nearest(test,k=5) \n",
    "\n",
    "# Now we check the accuracy of classification\n",
    "# For that, compare the result with test_labels and check which are wrong\n",
    "matches = result==test_labels\n",
    "correct = np.count_nonzero(matches)\n",
    "accuracy = correct*100.0/result.size\n",
    "print accuracy"
   ]
  },
  {
   "cell_type": "code",
   "execution_count": 24,
   "metadata": {
    "collapsed": false
   },
   "outputs": [
    {
     "data": {
      "text/plain": [
       "array([[ 19.,   2.,   8., ...,   8.,   0.,   8.],\n",
       "       [  8.,   5.,  12., ...,   8.,   4.,  10.],\n",
       "       [  3.,   4.,  11., ...,   7.,   3.,   9.],\n",
       "       ..., \n",
       "       [  9.,   5.,  11., ...,   7.,   0.,   7.],\n",
       "       [ 22.,   4.,   9., ...,  11.,   3.,   9.],\n",
       "       [ 16.,   5.,  10., ...,   8.,   4.,   8.]], dtype=float32)"
      ]
     },
     "execution_count": 24,
     "metadata": {},
     "output_type": "execute_result"
    }
   ],
   "source": [
    "train"
   ]
  },
  {
   "cell_type": "code",
   "execution_count": 25,
   "metadata": {
    "collapsed": false
   },
   "outputs": [
    {
     "data": {
      "text/plain": [
       "array([[ 22.,   6.,   9., ...,  11.,   0.,   8.],\n",
       "       [  9.,   2.,   9., ...,   6.,   0.,   8.],\n",
       "       [  3.,   5.,  10., ...,  10.,   6.,   6.],\n",
       "       ..., \n",
       "       [ 19.,   6.,   9., ...,  12.,   2.,   4.],\n",
       "       [ 18.,   2.,   3., ...,   9.,   5.,   8.],\n",
       "       [  0.,   4.,   9., ...,   7.,   2.,   8.]], dtype=float32)"
      ]
     },
     "execution_count": 25,
     "metadata": {},
     "output_type": "execute_result"
    }
   ],
   "source": [
    "test"
   ]
  },
  {
   "cell_type": "code",
   "execution_count": 36,
   "metadata": {
    "collapsed": false,
    "scrolled": true
   },
   "outputs": [
    {
     "name": "stdout",
     "output_type": "stream",
     "text": [
      "98.2\n",
      "85.6\n",
      "85.2\n",
      "91.6\n",
      "85.0\n",
      "98.0\n",
      "86.2\n",
      "82.2\n",
      "94.2\n",
      "84.8\n"
     ]
    }
   ],
   "source": [
    "data = np.vstack([train,test])\n",
    "k = np.arange(10)\n",
    "label = np.vstack([train_labels,test_labels])\n",
    "sampNum= len(data) \n",
    "\n",
    "kf = cross_validation.KFold(len(data), n_folds=10)\n",
    "iFold = 0\n",
    "for train_index, val_index in kf:\n",
    "    iFold = iFold+1\n",
    "    X_train, X_val, y_train, y_val = data[train_index], data[val_index], label[train_index], label[val_index]\n",
    "    knn.train(X_train,y_train)\n",
    "    ret,result,neighbours,dist = knn.find_nearest(X_val,k=5) \n",
    "    matches = result==y_val\n",
    "    correct = np.count_nonzero(matches)\n",
    "    accuracy = correct*100.0/result.size\n",
    "    print accuracy"
   ]
  },
  {
   "cell_type": "code",
   "execution_count": 37,
   "metadata": {
    "collapsed": false
   },
   "outputs": [
    {
     "data": {
      "text/plain": [
       "89.099999999999994"
      ]
     },
     "execution_count": 37,
     "metadata": {},
     "output_type": "execute_result"
    }
   ],
   "source": [
    "np.mean([98.2,85.6,85.2,91.6,85.0,98.0,86.2,82.2,94.2,84.8])"
   ]
  },
  {
   "cell_type": "code",
   "execution_count": 11,
   "metadata": {
    "collapsed": false
   },
   "outputs": [
    {
     "name": "stdout",
     "output_type": "stream",
     "text": [
      "['train_labels', 'train']\n"
     ]
    }
   ],
   "source": [
    "# save the data\n",
    "np.savez('knn_data.npz',train=train, train_labels=train_labels)\n",
    "\n",
    "# Now load the data\n",
    "with np.load('knn_data.npz') as data:\n",
    "    print data.files\n",
    "    train = data['train']\n",
    "    train_labels = data['train_labels']"
   ]
  },
  {
   "cell_type": "markdown",
   "metadata": {},
   "source": [
    "Using the letter-recognition data in OpenCv file, we can train KNN model to recognize hand-written letters."
   ]
  },
  {
   "cell_type": "code",
   "execution_count": 13,
   "metadata": {
    "collapsed": false
   },
   "outputs": [
    {
     "name": "stdout",
     "output_type": "stream",
     "text": [
      "93.22\n"
     ]
    }
   ],
   "source": [
    "# Load the data, converters convert the letter to a number\n",
    "data= np.loadtxt('letter-recognition.data', dtype= 'float32', delimiter = ',',\n",
    "                    converters= {0: lambda ch: ord(ch)-ord('A')})\n",
    "\n",
    "# split the data to two, 10000 each for train and test\n",
    "train, test = np.vsplit(data,2)\n",
    "\n",
    "# split trainData and testData to features and responses\n",
    "responses, trainData = np.hsplit(train,[1])\n",
    "labels, testData = np.hsplit(test,[1])\n",
    "\n",
    "# Initiate the kNN, classify, measure accuracy.\n",
    "knn = cv2.KNearest()\n",
    "knn.train(trainData, responses)\n",
    "ret, result, neighbours, dist = knn.find_nearest(testData, k=5)\n",
    "\n",
    "correct = np.count_nonzero(result == labels)\n",
    "accuracy = correct*100.0/10000\n",
    "print accuracy"
   ]
  }
 ],
 "metadata": {
  "kernelspec": {
   "display_name": "Python [Root]",
   "language": "python",
   "name": "Python [Root]"
  },
  "language_info": {
   "codemirror_mode": {
    "name": "ipython",
    "version": 2
   },
   "file_extension": ".py",
   "mimetype": "text/x-python",
   "name": "python",
   "nbconvert_exporter": "python",
   "pygments_lexer": "ipython2",
   "version": "2.7.12"
  }
 },
 "nbformat": 4,
 "nbformat_minor": 0
}
